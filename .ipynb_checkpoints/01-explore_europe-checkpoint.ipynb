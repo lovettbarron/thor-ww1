{
 "cells": [
  {
   "cell_type": "code",
   "execution_count": 1,
   "metadata": {
    "collapsed": true
   },
   "outputs": [],
   "source": [
    "import sys\n",
    "import re\n",
    "import os\n",
    "import time\n",
    "import datetime\n",
    "import pandas as pd\n",
    "import numpy as np\n",
    "from pylab import rcParams\n",
    "rcParams['figure.figsize'] = 5, 10\n",
    "%matplotlib inline"
   ]
  },
  {
   "cell_type": "code",
   "execution_count": 2,
   "metadata": {
    "collapsed": false
   },
   "outputs": [],
   "source": [
    "df = pd.read_csv(os.getcwd()+\"/data/20161117-ww1.csv\",sep=',',error_bad_lines=False)"
   ]
  },
  {
   "cell_type": "code",
   "execution_count": 3,
   "metadata": {
    "collapsed": false
   },
   "outputs": [
    {
     "data": {
      "text/plain": [
       "array(['ID', 'Mission Date', 'Operation', 'Country', 'SERVICE', 'Unit',\n",
       "       'Mission design series aircraft', 'Mission Number', 'Time of Day',\n",
       "       'Departure', 'Number of Planes Attacking', 'Call Sign',\n",
       "       'Weapons Expendend', 'Weapon Type', 'Weapon Weight', 'Bomb Load',\n",
       "       'Latitude', 'Longitude', 'Target Location', 'Target Country',\n",
       "       'Target Type', 'Launching Base', 'Base Latitude', 'Base Longitude',\n",
       "       'Bomb Damage Assessment', 'Enemy Action', 'Route Details',\n",
       "       'ISR COLLECTED', 'Friendly Casualties', 'WEATHER', 'Altitude',\n",
       "       'Date of Record'], dtype=object)"
      ]
     },
     "execution_count": 3,
     "metadata": {},
     "output_type": "execute_result"
    }
   ],
   "source": [
    "df.columns.values"
   ]
  },
  {
   "cell_type": "code",
   "execution_count": 4,
   "metadata": {
    "collapsed": false
   },
   "outputs": [],
   "source": [
    "df[\"Mission Date\"] = df['Mission Date'].apply(lambda x:pd.to_datetime(x) )\n",
    "# df.set_index('Mission Date')"
   ]
  },
  {
   "cell_type": "code",
   "execution_count": null,
   "metadata": {
    "collapsed": false
   },
   "outputs": [],
   "source": [
    "df[\"Mission Date\"].dtype"
   ]
  },
  {
   "cell_type": "code",
   "execution_count": 5,
   "metadata": {
    "collapsed": false
   },
   "outputs": [],
   "source": [
    "# mask = (df['Mission Date'] > np.datetime64('1917-11-19')) & (df['Mission Date'] <= np.datetime64('1917-12-04'))\n",
    "focus = df[(df[\"Operation\"]=='Argonne-Meuse')]"
   ]
  },
  {
   "cell_type": "code",
   "execution_count": 12,
   "metadata": {
    "collapsed": false
   },
   "outputs": [
    {
     "data": {
      "text/plain": [
       "Timestamp('1918-09-18 00:00:00')"
      ]
     },
     "execution_count": 12,
     "metadata": {},
     "output_type": "execute_result"
    }
   ],
   "source": [
    "focus[\"Mission Date\"].min()"
   ]
  },
  {
   "cell_type": "code",
   "execution_count": 13,
   "metadata": {
    "collapsed": false
   },
   "outputs": [
    {
     "data": {
      "text/plain": [
       "Timestamp('1918-11-05 00:00:00')"
      ]
     },
     "execution_count": 13,
     "metadata": {},
     "output_type": "execute_result"
    }
   ],
   "source": [
    "focus[\"Mission Date\"].max()"
   ]
  },
  {
   "cell_type": "code",
   "execution_count": 10,
   "metadata": {
    "collapsed": false
   },
   "outputs": [
    {
     "name": "stderr",
     "output_type": "stream",
     "text": [
      "/Users/readywater/anaconda/lib/python2.7/site-packages/numpy/lib/function_base.py:3834: RuntimeWarning: Invalid value encountered in percentile\n",
      "  RuntimeWarning)\n"
     ]
    },
    {
     "data": {
      "text/html": [
       "<div>\n",
       "<table border=\"1\" class=\"dataframe\">\n",
       "  <thead>\n",
       "    <tr style=\"text-align: right;\">\n",
       "      <th></th>\n",
       "      <th>ID</th>\n",
       "      <th>Mission Number</th>\n",
       "      <th>Time of Day</th>\n",
       "      <th>Weapon Weight</th>\n",
       "      <th>Bomb Load</th>\n",
       "      <th>Latitude</th>\n",
       "      <th>Longitude</th>\n",
       "      <th>Base Latitude</th>\n",
       "      <th>Base Longitude</th>\n",
       "      <th>Altitude</th>\n",
       "    </tr>\n",
       "  </thead>\n",
       "  <tbody>\n",
       "    <tr>\n",
       "      <th>count</th>\n",
       "      <td>189.000000</td>\n",
       "      <td>189.000000</td>\n",
       "      <td>0.0</td>\n",
       "      <td>184.000000</td>\n",
       "      <td>183.000000</td>\n",
       "      <td>188.000000</td>\n",
       "      <td>188.000000</td>\n",
       "      <td>1.840000e+02</td>\n",
       "      <td>1.840000e+02</td>\n",
       "      <td>189.000000</td>\n",
       "    </tr>\n",
       "    <tr>\n",
       "      <th>mean</th>\n",
       "      <td>617.412698</td>\n",
       "      <td>75.407407</td>\n",
       "      <td>NaN</td>\n",
       "      <td>816.689703</td>\n",
       "      <td>96.926912</td>\n",
       "      <td>49.010080</td>\n",
       "      <td>5.326638</td>\n",
       "      <td>4.867382e+01</td>\n",
       "      <td>5.248075e+00</td>\n",
       "      <td>11999.730159</td>\n",
       "    </tr>\n",
       "    <tr>\n",
       "      <th>std</th>\n",
       "      <td>94.444169</td>\n",
       "      <td>14.528700</td>\n",
       "      <td>NaN</td>\n",
       "      <td>1106.070132</td>\n",
       "      <td>113.462366</td>\n",
       "      <td>1.154569</td>\n",
       "      <td>0.412041</td>\n",
       "      <td>1.424963e-13</td>\n",
       "      <td>2.404625e-14</td>\n",
       "      <td>2317.484120</td>\n",
       "    </tr>\n",
       "    <tr>\n",
       "      <th>min</th>\n",
       "      <td>443.000000</td>\n",
       "      <td>48.000000</td>\n",
       "      <td>NaN</td>\n",
       "      <td>0.000000</td>\n",
       "      <td>0.000000</td>\n",
       "      <td>44.500000</td>\n",
       "      <td>4.878740</td>\n",
       "      <td>4.867382e+01</td>\n",
       "      <td>5.248075e+00</td>\n",
       "      <td>3200.000000</td>\n",
       "    </tr>\n",
       "    <tr>\n",
       "      <th>25%</th>\n",
       "      <td>532.000000</td>\n",
       "      <td>63.000000</td>\n",
       "      <td>NaN</td>\n",
       "      <td>NaN</td>\n",
       "      <td>NaN</td>\n",
       "      <td>NaN</td>\n",
       "      <td>NaN</td>\n",
       "      <td>NaN</td>\n",
       "      <td>NaN</td>\n",
       "      <td>11500.000000</td>\n",
       "    </tr>\n",
       "    <tr>\n",
       "      <th>50%</th>\n",
       "      <td>619.000000</td>\n",
       "      <td>75.000000</td>\n",
       "      <td>NaN</td>\n",
       "      <td>NaN</td>\n",
       "      <td>NaN</td>\n",
       "      <td>NaN</td>\n",
       "      <td>NaN</td>\n",
       "      <td>NaN</td>\n",
       "      <td>NaN</td>\n",
       "      <td>13000.000000</td>\n",
       "    </tr>\n",
       "    <tr>\n",
       "      <th>75%</th>\n",
       "      <td>704.000000</td>\n",
       "      <td>89.000000</td>\n",
       "      <td>NaN</td>\n",
       "      <td>NaN</td>\n",
       "      <td>NaN</td>\n",
       "      <td>NaN</td>\n",
       "      <td>NaN</td>\n",
       "      <td>NaN</td>\n",
       "      <td>NaN</td>\n",
       "      <td>13650.000000</td>\n",
       "    </tr>\n",
       "    <tr>\n",
       "      <th>max</th>\n",
       "      <td>767.000000</td>\n",
       "      <td>100.000000</td>\n",
       "      <td>NaN</td>\n",
       "      <td>9680.000000</td>\n",
       "      <td>880.000000</td>\n",
       "      <td>49.520956</td>\n",
       "      <td>6.316667</td>\n",
       "      <td>4.867382e+01</td>\n",
       "      <td>5.248075e+00</td>\n",
       "      <td>15275.000000</td>\n",
       "    </tr>\n",
       "  </tbody>\n",
       "</table>\n",
       "</div>"
      ],
      "text/plain": [
       "               ID  Mission Number  Time of Day  Weapon Weight   Bomb Load  \\\n",
       "count  189.000000      189.000000          0.0     184.000000  183.000000   \n",
       "mean   617.412698       75.407407          NaN     816.689703   96.926912   \n",
       "std     94.444169       14.528700          NaN    1106.070132  113.462366   \n",
       "min    443.000000       48.000000          NaN       0.000000    0.000000   \n",
       "25%    532.000000       63.000000          NaN            NaN         NaN   \n",
       "50%    619.000000       75.000000          NaN            NaN         NaN   \n",
       "75%    704.000000       89.000000          NaN            NaN         NaN   \n",
       "max    767.000000      100.000000          NaN    9680.000000  880.000000   \n",
       "\n",
       "         Latitude   Longitude  Base Latitude  Base Longitude      Altitude  \n",
       "count  188.000000  188.000000   1.840000e+02    1.840000e+02    189.000000  \n",
       "mean    49.010080    5.326638   4.867382e+01    5.248075e+00  11999.730159  \n",
       "std      1.154569    0.412041   1.424963e-13    2.404625e-14   2317.484120  \n",
       "min     44.500000    4.878740   4.867382e+01    5.248075e+00   3200.000000  \n",
       "25%           NaN         NaN            NaN             NaN  11500.000000  \n",
       "50%           NaN         NaN            NaN             NaN  13000.000000  \n",
       "75%           NaN         NaN            NaN             NaN  13650.000000  \n",
       "max     49.520956    6.316667   4.867382e+01    5.248075e+00  15275.000000  "
      ]
     },
     "execution_count": 10,
     "metadata": {},
     "output_type": "execute_result"
    }
   ],
   "source": [
    "focus.describe()"
   ]
  },
  {
   "cell_type": "code",
   "execution_count": 14,
   "metadata": {
    "collapsed": true
   },
   "outputs": [],
   "source": [
    "from mpl_toolkits.basemap import Basemap\n",
    "import matplotlib.pyplot as plt\n",
    "import numpy as np"
   ]
  },
  {
   "cell_type": "code",
   "execution_count": 21,
   "metadata": {
    "collapsed": false
   },
   "outputs": [
    {
     "name": "stdout",
     "output_type": "stream",
     "text": [
      "4.87874\n",
      "44.5 6.316667\n",
      "49.520956\n"
     ]
    }
   ],
   "source": [
    "print focus[\"Longitude\"].min()\n",
    "print focus[\"Latitude\"].min()\n",
    "print focus[\"Longitude\"].max()\n",
    "print focus[\"Latitude\"].max(),"
   ]
  },
  {
   "cell_type": "code",
   "execution_count": 31,
   "metadata": {
    "collapsed": false
   },
   "outputs": [
    {
     "data": {
      "text/plain": [
       "<matplotlib.figure.Figure at 0x118cbfc10>"
      ]
     },
     "metadata": {},
     "output_type": "display_data"
    }
   ],
   "source": [
    "plt.figure(figsize=(20,20))\n",
    "m = Basemap(projection='merc',\n",
    "              llcrnrlon = focus[\"Longitude\"].min()-1,              # lower-left corner longitude\n",
    "              llcrnrlat = focus[\"Latitude\"].min()-1,                # lower-left corner latitude\n",
    "              urcrnrlon = focus[\"Longitude\"].max()+1,               # upper-right corner longitude\n",
    "              urcrnrlat = focus[\"Latitude\"].max()+1,              # upper-right corner latitude\n",
    "              resolution = 'l',\n",
    "              area_thresh = 100000.0,\n",
    "              )"
   ]
  },
  {
   "cell_type": "code",
   "execution_count": null,
   "metadata": {
    "collapsed": false
   },
   "outputs": [],
   "source": [
    "# df[['Mission Day',\"Mission Month\",'Mission Year']].head()"
   ]
  },
  {
   "cell_type": "code",
   "execution_count": 26,
   "metadata": {
    "collapsed": false
   },
   "outputs": [],
   "source": [
    "# df[['LAT','LON']] = df[['LAT','LON']].apply(lambda x: pd.to_numeric(x, errors='ignore'))\n",
    "# df[['LAT']] = df[['LAT']].apply(lambda x: x-900 if x>1000 else x)\n",
    "\n",
    "# cambrai = df[[\"d\"]]\n",
    "x, y = m(focus['Longitude'].values, focus['Latitude'].values)"
   ]
  },
  {
   "cell_type": "code",
   "execution_count": 32,
   "metadata": {
    "collapsed": false
   },
   "outputs": [
    {
     "data": {
      "image/png": "[encoded data removed]",
      "text/plain": [
       "<matplotlib.figure.Figure at 0x125edc8d0>"
      ]
     },
     "metadata": {},
     "output_type": "display_data"
    }
   ],
   "source": [
    "m.drawcoastlines()\n",
    "m.drawrivers(color='lightblue')\n",
    "m.fillcontinents()\n",
    "m.drawmapboundary()\n",
    "m.drawcounties()\n",
    "m.fillcontinents(color = 'forestgreen')\n",
    "m.drawmapboundary(fill_color='steelblue')\n",
    "m.plot(x, y, \n",
    "            'o',                    # marker shape\n",
    "            color='red',         # marker colour\n",
    "            markersize=4)\n",
    "plt.show()"
   ]
  },
  {
   "cell_type": "code",
   "execution_count": null,
   "metadata": {
    "collapsed": true
   },
   "outputs": [],
   "source": []
  }
 ],
 "metadata": {
  "anaconda-cloud": {},
  "kernelspec": {
   "display_name": "Python [default]",
   "language": "python",
   "name": "python2"
  },
  "language_info": {
   "codemirror_mode": {
    "name": "ipython",
    "version": 2
   },
   "file_extension": ".py",
   "mimetype": "text/x-python",
   "name": "python",
   "nbconvert_exporter": "python",
   "pygments_lexer": "ipython2",
   "version": "2.7.12"
  }
 },
 "nbformat": 4,
 "nbformat_minor": 1
}
