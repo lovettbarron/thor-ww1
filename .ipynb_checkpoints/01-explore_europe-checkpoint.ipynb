{
 "cells": [
  {
   "cell_type": "code",
   "execution_count": null,
   "metadata": {
    "collapsed": true
   },
   "outputs": [],
   "source": [
    "import sys\n",
    "import re\n",
    "import os\n",
    "import time\n",
    "import datetime\n",
    "import pandas as pd\n",
    "import numpy as np\n",
    "from pylab import rcParams\n",
    "rcParams['figure.figsize'] = 5, 10\n",
    "%matplotlib inline"
   ]
  },
  {
   "cell_type": "code",
   "execution_count": null,
   "metadata": {
    "collapsed": false
   },
   "outputs": [],
   "source": [
    "df = pd.read_csv(os.getcwd()+\"/data/20161117-ww1.csv\",sep=',',error_bad_lines=False)"
   ]
  },
  {
   "cell_type": "code",
   "execution_count": null,
   "metadata": {
    "collapsed": false
   },
   "outputs": [],
   "source": [
    "df.columns.values"
   ]
  },
  {
   "cell_type": "code",
   "execution_count": null,
   "metadata": {
    "collapsed": false
   },
   "outputs": [],
   "source": [
    "df['Mission Date'].to_datetime\n",
    "df.set_index('Mission Date')"
   ]
  },
  {
   "cell_type": "code",
   "execution_count": null,
   "metadata": {
    "collapsed": false
   },
   "outputs": [],
   "source": []
  },
  {
   "cell_type": "code",
   "execution_count": null,
   "metadata": {
    "collapsed": false
   },
   "outputs": [],
   "source": [
    "df[\"Mission Date\"].dtype"
   ]
  },
  {
   "cell_type": "code",
   "execution_count": null,
   "metadata": {
    "collapsed": false
   },
   "outputs": [],
   "source": [
    "df[\"Mission Date\"] = df['Mission Date'].apply(lambda x:pd.to_datetime(x) )"
   ]
  },
  {
   "cell_type": "code",
   "execution_count": null,
   "metadata": {
    "collapsed": false
   },
   "outputs": [],
   "source": [
    "# mask = (df['Mission Date'] > np.datetime64('1917-11-19')) & (df['Mission Date'] <= np.datetime64('1917-12-04'))\n",
    "cambrai = df.loc[np.datetime64('1917-11-19'):np.datetime64('1917-12-04')]"
   ]
  },
  {
   "cell_type": "code",
   "execution_count": null,
   "metadata": {
    "collapsed": false
   },
   "outputs": [],
   "source": [
    "cambrai"
   ]
  },
  {
   "cell_type": "code",
   "execution_count": null,
   "metadata": {
    "collapsed": true
   },
   "outputs": [],
   "source": [
    "from mpl_toolkits.basemap import Basemap\n",
    "import matplotlib.pyplot as plt\n",
    "import numpy as np"
   ]
  },
  {
   "cell_type": "code",
   "execution_count": null,
   "metadata": {
    "collapsed": false
   },
   "outputs": [],
   "source": [
    "plt.figure(figsize=(20,20))\n",
    "m = Basemap(projection='merc',\n",
    "              llcrnrlon = -31.2,              # lower-left corner longitude\n",
    "              llcrnrlat = 27.6,                # lower-left corner latitude\n",
    "              urcrnrlon = 39.8,               # upper-right corner longitude\n",
    "              urcrnrlat = 81.0,              # upper-right corner latitude\n",
    "              resolution = 'l',\n",
    "              area_thresh = 100000.0,\n",
    "              )"
   ]
  },
  {
   "cell_type": "code",
   "execution_count": null,
   "metadata": {
    "collapsed": false
   },
   "outputs": [],
   "source": [
    "df[['Mission Day',\"Mission Month\",'Mission Year']].head()"
   ]
  },
  {
   "cell_type": "code",
   "execution_count": null,
   "metadata": {
    "collapsed": false
   },
   "outputs": [],
   "source": [
    "# df[['LAT','LON']] = df[['LAT','LON']].apply(lambda x: pd.to_numeric(x, errors='ignore'))\n",
    "# df[['LAT']] = df[['LAT']].apply(lambda x: x-900 if x>1000 else x)\n",
    "\n",
    "cambrai = df[[\"d\"]]\n",
    "x, y = m(df['Longitude'].values, df['Latitude'].values)"
   ]
  },
  {
   "cell_type": "code",
   "execution_count": null,
   "metadata": {
    "collapsed": false
   },
   "outputs": [],
   "source": [
    "m.drawcoastlines()\n",
    "m.drawrivers(color='lightblue')\n",
    "m.fillcontinents()\n",
    "m.drawmapboundary()\n",
    "m.drawcounties()\n",
    "m.fillcontinents(color = 'forestgreen')\n",
    "m.drawmapboundary(fill_color='steelblue')\n",
    "m.plot(x, y, \n",
    "            'o',                    # marker shape\n",
    "            color='red',         # marker colour\n",
    "            markersize=4)\n",
    "plt.show()"
   ]
  },
  {
   "cell_type": "code",
   "execution_count": null,
   "metadata": {
    "collapsed": true
   },
   "outputs": [],
   "source": []
  }
 ],
 "metadata": {
  "anaconda-cloud": {},
  "kernelspec": {
   "display_name": "Python [default]",
   "language": "python",
   "name": "python2"
  },
  "language_info": {
   "codemirror_mode": {
    "name": "ipython",
    "version": 2
   },
   "file_extension": ".py",
   "mimetype": "text/x-python",
   "name": "python",
   "nbconvert_exporter": "python",
   "pygments_lexer": "ipython2",
   "version": "2.7.12"
  }
 },
 "nbformat": 4,
 "nbformat_minor": 1
}
